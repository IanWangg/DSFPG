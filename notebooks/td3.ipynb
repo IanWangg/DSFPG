{
 "cells": [
  {
   "cell_type": "code",
   "execution_count": null,
   "id": "f2c0f4b8-5c23-4e5d-96bb-8f1aae665247",
   "metadata": {
    "tags": []
   },
   "outputs": [],
   "source": [
    "import sys\n",
    "sys.path.append('../')\n",
    "from deep_rl import *\n",
    "\n",
    "def td3_continuous(**kwargs):\n",
    "    generate_tag(kwargs)\n",
    "    kwargs.setdefault('log_level', 0)\n",
    "    config = Config()\n",
    "    config.merge(kwargs)\n",
    "\n",
    "    config.task_fn = lambda: Task(config.game)\n",
    "    config.eval_env = config.task_fn()\n",
    "    config.max_steps = int(1e6)\n",
    "    config.eval_interval = int(1e4)\n",
    "    config.eval_episodes = 20\n",
    "\n",
    "    config.network_fn = lambda: TD3Net(\n",
    "        config.action_dim,\n",
    "        actor_body_fn=lambda: FCBody(config.state_dim, (400, 300), gate=F.relu),\n",
    "        critic_body_fn=lambda: FCBody(\n",
    "            config.state_dim + config.action_dim, (400, 300), gate=F.relu),\n",
    "        actor_opt_fn=lambda params: torch.optim.Adam(params, lr=1e-3),\n",
    "        critic_opt_fn=lambda params: torch.optim.Adam(params, lr=1e-3))\n",
    "\n",
    "    replay_kwargs = dict(\n",
    "        memory_size=int(1e6),\n",
    "        batch_size=256,\n",
    "    )\n",
    "\n",
    "    config.replay_fn = lambda: ReplayWrapper(UniformReplay, replay_kwargs)\n",
    "    config.discount = 0.99\n",
    "    config.random_process_fn = lambda: GaussianProcess(\n",
    "        size=(config.action_dim,), std=LinearSchedule(0.1))\n",
    "    config.td3_noise = 0.2\n",
    "    config.td3_noise_clip = 0.5\n",
    "    config.td3_delay = 2\n",
    "    config.warm_up = int(1e4)\n",
    "    config.target_network_mix = 5e-3\n",
    "    run_steps(TD3Agent(config))\n",
    "\n",
    "\n",
    "td3 = td3_continuous(game='dm-hopper-hop')"
   ]
  }
 ],
 "metadata": {
  "kernelspec": {
   "display_name": "DPC",
   "language": "python",
   "name": "dpc"
  },
  "language_info": {
   "codemirror_mode": {
    "name": "ipython",
    "version": 3
   },
   "file_extension": ".py",
   "mimetype": "text/x-python",
   "name": "python",
   "nbconvert_exporter": "python",
   "pygments_lexer": "ipython3",
   "version": "3.7.10"
  }
 },
 "nbformat": 4,
 "nbformat_minor": 5
}
