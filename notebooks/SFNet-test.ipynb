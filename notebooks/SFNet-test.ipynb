{
 "cells": [
  {
   "cell_type": "code",
   "execution_count": 4,
   "id": "29d8dec2-c0a2-45c9-9a5b-79cc4e8d73fa",
   "metadata": {},
   "outputs": [],
   "source": [
    "import sys\n",
    "sys.path.append('../')\n",
    "from deep_rl import *\n",
    "from deep_rl.network.network_utils import *\n",
    "\n",
    "class SF_FCBody(nn.Module):\n",
    "    def __init__(self, state_dim, hidden_units=(400, 300), gate=F.relu, noisy_linear=False):\n",
    "        super(SF_FCBody, self).__init__()\n",
    "        dims = (state_dim, ) + hidden_units\n",
    "        if noisy_linear:\n",
    "            self.layers = nn.ModuleList(\n",
    "                [NoisyLinear(dim_in, dim_out) for dim_in, dim_out in zip(dims[:-1], dims[1:])])\n",
    "        else:\n",
    "            self.layers = nn.ModuleList(\n",
    "                [layer_init(nn.Linear(dim_in, dim_out)) for dim_in, dim_out in zip(dims[:-1], dims[1:])])\n",
    "        \n",
    "        self.gate = gate\n",
    "        self.feature_dim = dims[-1]\n",
    "        self.noisy_linear = noisy_linear\n",
    "\n",
    "    def reset_noise(self):\n",
    "        if self.noisy_linear:\n",
    "            for layer in self.layers:\n",
    "                layer.reset_noise()\n",
    "    \n",
    "    def forward(self, x):\n",
    "        for layer in self.layers:\n",
    "            x = self.gate(layer(x))\n",
    "        return x"
   ]
  },
  {
   "cell_type": "code",
   "execution_count": null,
   "id": "f5e09648-6cd6-4471-af54-0f3dba0e786b",
   "metadata": {},
   "outputs": [],
   "source": [
    "class critic(nn.Module)"
   ]
  },
  {
   "cell_type": "code",
   "execution_count": 5,
   "id": "8e5398cc-1c22-48f0-809f-842274c78c27",
   "metadata": {},
   "outputs": [],
   "source": [
    "model = SF_FCBody(11)"
   ]
  },
  {
   "cell_type": "code",
   "execution_count": 8,
   "id": "51e8b9db-266f-43bf-a56f-a6c3fcb78219",
   "metadata": {},
   "outputs": [
    {
     "data": {
      "text/plain": [
       "torch.Size([20, 300])"
      ]
     },
     "execution_count": 8,
     "metadata": {},
     "output_type": "execute_result"
    }
   ],
   "source": [
    "data = np.zeros((20, 11))\n",
    "data = tensor(data)\n",
    "model(data).shape"
   ]
  },
  {
   "cell_type": "code",
   "execution_count": 31,
   "id": "48a277fe-0d9a-47dc-9ab6-a1a3a4bb40c4",
   "metadata": {},
   "outputs": [
    {
     "name": "stderr",
     "output_type": "stream",
     "text": [
      "/home/yiranwang/anaconda3/envs/DPC/lib/python3.7/site-packages/ipykernel_launcher.py:1: UserWarning: To copy construct from a tensor, it is recommended to use sourceTensor.clone().detach() or sourceTensor.clone().detach().requires_grad_(True), rather than torch.tensor(sourceTensor).\n",
      "  \"\"\"Entry point for launching an IPython kernel.\n"
     ]
    }
   ],
   "source": [
    "x = torch.tensor(torch.arange(4.0), requires_grad=True)"
   ]
  },
  {
   "cell_type": "code",
   "execution_count": 32,
   "id": "18b69cbe-658d-4b33-a1b6-dfea9c89da93",
   "metadata": {},
   "outputs": [],
   "source": [
    "loss = torch.dot(x, x)\n",
    "loss1 = torch.dot(x, x) * 2"
   ]
  },
  {
   "cell_type": "code",
   "execution_count": 33,
   "id": "7b6c3068-091d-4c4c-a5dc-0c0b83f04ec1",
   "metadata": {},
   "outputs": [
    {
     "data": {
      "text/plain": [
       "tensor([0., 2., 4., 6.])"
      ]
     },
     "execution_count": 33,
     "metadata": {},
     "output_type": "execute_result"
    }
   ],
   "source": [
    "loss.backward()\n",
    "x.grad"
   ]
  },
  {
   "cell_type": "code",
   "execution_count": 34,
   "id": "1fada1f7-ca8f-40cc-9cc8-95beaa116965",
   "metadata": {},
   "outputs": [
    {
     "data": {
      "text/plain": [
       "tensor([ 0.,  6., 12., 18.])"
      ]
     },
     "execution_count": 34,
     "metadata": {},
     "output_type": "execute_result"
    }
   ],
   "source": [
    "loss1.backward()\n",
    "x.grad"
   ]
  },
  {
   "cell_type": "code",
   "execution_count": 35,
   "id": "84ab2450-e783-4dda-9dcd-0abb701b5bf7",
   "metadata": {},
   "outputs": [],
   "source": [
    "class DeterministicActorCriticNet(nn.Module):\n",
    "    def __init__(self,\n",
    "                 state_dim,\n",
    "                 action_dim,\n",
    "                 actor_opt_fn,\n",
    "                 critic_opt_fn,\n",
    "                 phi_body=None,\n",
    "                 actor_body=None,\n",
    "                 critic_body=None):\n",
    "        super(DeterministicActorCriticNet, self).__init__()\n",
    "        if phi_body is None: phi_body = DummyBody(state_dim)\n",
    "        if actor_body is None: actor_body = DummyBody(phi_body.feature_dim)\n",
    "        if critic_body is None: critic_body = DummyBody(phi_body.feature_dim)\n",
    "        self.phi_body = phi_body\n",
    "        self.actor_body = actor_body\n",
    "        self.critic_body = critic_body\n",
    "        self.fc_action = layer_init(nn.Linear(actor_body.feature_dim, action_dim), 1e-3)\n",
    "        self.fc_critic = layer_init(nn.Linear(critic_body.feature_dim, 1), 1e-3)\n",
    "\n",
    "        self.actor_params = list(self.actor_body.parameters()) + list(self.fc_action.parameters())\n",
    "        self.critic_params = list(self.critic_body.parameters()) + list(self.fc_critic.parameters())\n",
    "        self.phi_params = list(self.phi_body.parameters())\n",
    "        \n",
    "        self.actor_opt = actor_opt_fn(self.actor_params + self.phi_params)\n",
    "        self.critic_opt = critic_opt_fn(self.critic_params + self.phi_params)\n",
    "        self.to(Config.DEVICE)\n",
    "\n",
    "    def forward(self, obs):\n",
    "        phi = self.feature(obs)\n",
    "        action = self.actor(phi)\n",
    "        return action\n",
    "\n",
    "    def feature(self, obs):\n",
    "        obs = tensor(obs)\n",
    "        return self.phi_body(obs)\n",
    "\n",
    "    def actor(self, phi):\n",
    "        return torch.tanh(self.fc_action(self.actor_body(phi)))\n",
    "\n",
    "    def critic(self, phi, a):\n",
    "        return self.fc_critic(self.critic_body(torch.cat([phi, a], dim=1)))\n"
   ]
  },
  {
   "cell_type": "code",
   "execution_count": 36,
   "id": "942d31da-a3fd-4f94-ae67-14c6c70d31c2",
   "metadata": {},
   "outputs": [],
   "source": [
    "DDPG = DeterministicActorCriticNet(\n",
    "        11, 3,\n",
    "        actor_body=FCBody(11, (400, 300), gate=F.relu),\n",
    "        critic_body=FCBody(11 + 3, (400, 300), gate=F.relu),\n",
    "        actor_opt_fn=lambda params: torch.optim.Adam(params, lr=1e-3),\n",
    "        critic_opt_fn=lambda params: torch.optim.Adam(params, lr=1e-3))\n"
   ]
  },
  {
   "cell_type": "code",
   "execution_count": null,
   "id": "43b8aef5-b05f-4c43-9d8c-cc1d352d6979",
   "metadata": {},
   "outputs": [],
   "source": [
    "states = tensor(np.random(1, 11))\n",
    "actions = tensor(np.random(1, 3))\n",
    "rewards = tensor(np.random(1, 1))\n",
    "next_states = tensor(np.random(1, 11))\n",
    "mask = tensor(np.array([False]).reshape(1, -1))\n",
    "\n",
    "\n",
    "# need to change the following\n",
    "\n",
    "# this part has no update effect (has gradient, but we do not directly update target network)\n",
    "phi_next = self.target_network.feature(next_states)\n",
    "a_next = self.target_network.actor(phi_next)\n",
    "q_next = self.target_network.critic(phi_next, a_next)\n",
    "\n",
    "\n",
    "q_next = config.discount * mask * q_next\n",
    "q_next.add_(rewards)\n",
    "q_next = q_next.detach()\n",
    "\n",
    "\n",
    "phi = self.network.feature(states)\n",
    "q = self.network.critic(phi, actions)\n",
    "critic_loss = (q - q_next).pow(2).mul(0.5).sum(-1).mean()\n",
    "\n",
    "self.network.zero_grad()\n",
    "critic_loss.backward()\n",
    "self.network.critic_opt.step()\n",
    "\n",
    "phi = self.network.feature(states)\n",
    "action = self.network.actor(phi)\n",
    "policy_loss = -self.network.critic(phi.detach(), action).mean()\n",
    "\n",
    "self.network.zero_grad()\n",
    "policy_loss.backward()\n",
    "self.network.actor_opt.step()"
   ]
  },
  {
   "cell_type": "code",
   "execution_count": null,
   "id": "81dc0fe5-082e-464d-9e8b-d5b1cbaf558e",
   "metadata": {},
   "outputs": [],
   "source": [
    "state = tensor(np.zeros(1, 11))\n",
    "action = tensor(np.zeros(1, ))\n",
    "reward = 10"
   ]
  },
  {
   "cell_type": "code",
   "execution_count": 37,
   "id": "0999ce75-8f58-4617-838e-d7651a354ccd",
   "metadata": {},
   "outputs": [
    {
     "data": {
      "text/plain": [
       "tensor([[ 2., -2.],\n",
       "        [ 2.,  2.]])"
      ]
     },
     "execution_count": 37,
     "metadata": {},
     "output_type": "execute_result"
    }
   ],
   "source": [
    "x = torch.tensor([[1., -1.], [1., 1.]], requires_grad=True)\n",
    "out = x.pow(2).sum()\n",
    "out.backward()\n",
    "x.grad"
   ]
  },
  {
   "cell_type": "code",
   "execution_count": 39,
   "id": "f2bedc9e-9ac3-44c3-8ca1-7200581f3a02",
   "metadata": {},
   "outputs": [
    {
     "data": {
      "text/plain": [
       "tensor([[ 10., -10.],\n",
       "        [ 10.,  10.]])"
      ]
     },
     "execution_count": 39,
     "metadata": {},
     "output_type": "execute_result"
    }
   ],
   "source": [
    "# x = torch.tensor([[1., -1.], [1., 1.]], requires_grad=True)\n",
    "out = x.pow(2).sum()\n",
    "\n",
    "out2 = out * 2\n",
    "out2.backward()\n",
    "x.grad"
   ]
  }
 ],
 "metadata": {
  "kernelspec": {
   "display_name": "DPC",
   "language": "python",
   "name": "dpc"
  },
  "language_info": {
   "codemirror_mode": {
    "name": "ipython",
    "version": 3
   },
   "file_extension": ".py",
   "mimetype": "text/x-python",
   "name": "python",
   "nbconvert_exporter": "python",
   "pygments_lexer": "ipython3",
   "version": "3.7.10"
  }
 },
 "nbformat": 4,
 "nbformat_minor": 5
}
